{
  "nbformat": 4,
  "nbformat_minor": 0,
  "metadata": {
    "colab": {
      "provenance": [],
      "authorship_tag": "ABX9TyMjpcyIzAPHUWtHAAeGF4TO",
      "include_colab_link": true
    },
    "kernelspec": {
      "name": "python3",
      "display_name": "Python 3"
    },
    "language_info": {
      "name": "python"
    }
  },
  "cells": [
    {
      "cell_type": "markdown",
      "metadata": {
        "id": "view-in-github",
        "colab_type": "text"
      },
      "source": [
        "<a href=\"https://colab.research.google.com/github/AbrahamVidal21/Cauchy-Euler/blob/master/CalculoHidroestaticos.ipynb\" target=\"_parent\"><img src=\"https://colab.research.google.com/assets/colab-badge.svg\" alt=\"Open In Colab\"/></a>"
      ]
    },
    {
      "cell_type": "code",
      "execution_count": 1,
      "metadata": {
        "colab": {
          "base_uri": "https://localhost:8080/",
          "height": 108
        },
        "id": "4aA2bO_ywIns",
        "outputId": "34d05b4c-fffd-4f90-eacd-ae918b0e04ee"
      },
      "outputs": [
        {
          "output_type": "error",
          "ename": "SyntaxError",
          "evalue": "unterminated string literal (detected at line 24) (<ipython-input-1-673c9d2cb994>, line 24)",
          "traceback": [
            "\u001b[0;36m  File \u001b[0;32m\"<ipython-input-1-673c9d2cb994>\"\u001b[0;36m, line \u001b[0;32m24\u001b[0m\n\u001b[0;31m    nombre = input(f\"Ingrese el nombre del fluido {\u001b[0m\n\u001b[0m                   ^\u001b[0m\n\u001b[0;31mSyntaxError\u001b[0m\u001b[0;31m:\u001b[0m unterminated string literal (detected at line 24)\n"
          ]
        }
      ],
      "source": [
        "\n",
        "\n",
        ""
      ]
    },
    {
      "cell_type": "code",
      "source": [
        "# Función para obtener un valor de entrada con un valor predeterminado\n",
        "def obtener_valor(prompt, valor_predeterminado):\n",
        "    valor = input(prompt)\n",
        "    return float(valor) if valor else valor_predeterminado\n",
        "\n",
        "# Solicitar al usuario la presión atmosférica, la gravedad y el ancho del tanque\n",
        "Patm = obtener_valor(\n",
        "    \"Ingrese la presión atmosférica en Pascales (por defecto 101325): \", 101325)\n",
        "g = obtener_valor(\n",
        "    \"Ingrese la aceleración debida a la gravedad en m/s^2 (por defecto 9.81): \", 9.81)\n",
        "ancho_tanque = obtener_valor(\n",
        "    \"Ingrese el ancho del tanque en metros (por defecto 5): \", 5)\n",
        "\n",
        "# Inicializar la lista de fluidos\n",
        "fluidos = []\n",
        "\n",
        "# Solicitar al usuario que ingrese la cantidad de fluidos\n",
        "n_fluids = int(obtener_valor(\n",
        "    \"Ingrese el número de fluidos en el tanque (por defecto 3): \", 3))\n",
        "\n",
        "# Recopilar datos de cada fluido\n",
        "for i in range(n_fluids):\n",
        "    nombre = input(f\"Ingrese el nombre del fluido {i + 1} (por defecto 'Fluido{i + 1}'): \") or f\"Fluido{i + 1}\"\n",
        "    densidad = obtener_valor(f\"Ingrese la densidad del fluido {nombre} en kg/m^3 (por defecto 1000): \", 1000)\n",
        "    altura = obtener_valor(f\"Ingrese la altura de la capa de {nombre} en metros (por defecto 2): \", 2)\n",
        "    fluidos.append({\"nombre\": nombre, \"densidad\": densidad, \"altura\": altura})\n",
        "\n",
        "# Variables para almacenar los resultados acumulados\n",
        "presion_absoluta_total = Patm\n",
        "fuerza_total = 0\n",
        "momento_total = 0\n",
        "altura_acumulada = 0\n",
        "\n",
        "# Iterar sobre cada fluido para calcular presión, fuerza y centro de presión\n",
        "for fluido in fluidos:\n",
        "    densidad = fluido[\"densidad\"]\n",
        "    altura = fluido[\"altura\"]\n",
        "    nombre = fluido[\"nombre\"]\n",
        "\n",
        "    # Calcular presión debido al fluido actual\n",
        "    presion_fluido = densidad * g * altura\n",
        "    presion_absoluta_total += presion_fluido\n",
        "\n",
        "    # Área de la sección del fluido (frontal)\n",
        "    area_fluido = altura * ancho_tanque\n",
        "\n",
        "    # Presión media y fuerza ejercida por el fluido\n",
        "    presion_media_fluido = presion_fluido / 2\n",
        "    fuerza_fluido = presion_media_fluido * area_fluido\n",
        "\n",
        "    # Sumar a la fuerza total\n",
        "    fuerza_total += fuerza_fluido\n",
        "\n",
        "    # Calcular el centro de presión para el fluido\n",
        "    altura_centro_presion_fluido = (2 / 3) * altura + altura_acumulada\n",
        "    momento_fluido = altura_centro_presion_fluido * fuerza_fluido\n",
        "    momento_total += momento_fluido\n",
        "\n",
        "    # Actualizar altura acumulada con la altura del fluido actual\n",
        "    altura_acumulada += altura\n",
        "\n",
        "    print(f'\\nPresión absoluta {nombre}: {presion_fluido} Pascales')\n",
        "    print(f'Fuerza ejercida por el {nombre}: {fuerza_fluido} N')\n",
        "    print(f'Momento debido al {nombre}: {momento_fluido} N*m')\n",
        "\n",
        "# Altura del centro de presión total desde la base del tanque\n",
        "altura_centro_presion_total = momento_total / fuerza_total\n",
        "\n",
        "print(f'\\nPresión absoluta total en el fondo del tanque: {presion_absoluta_total} Pascales')\n",
        "print(f'Fuerza total en la cara frontal del tanque: {fuerza_total} N')\n",
        "print(f'La altura del centro de presión desde la base del tanque es: {altura_centro_presion_total} metros')\n",
        "\n",
        "print('end')\n"
      ],
      "metadata": {
        "colab": {
          "base_uri": "https://localhost:8080/"
        },
        "id": "X3Q_BPMAwsP5",
        "outputId": "aa152703-ba90-4745-c341-e10fed6c411c"
      },
      "execution_count": 4,
      "outputs": [
        {
          "output_type": "stream",
          "name": "stdout",
          "text": [
            "Ingrese la presión atmosférica en Pascales (por defecto 101325): 101325\n",
            "Ingrese la aceleración debida a la gravedad en m/s^2 (por defecto 9.81): 9.81\n",
            "Ingrese el ancho del tanque en metros (por defecto 5): 5\n",
            "Ingrese el número de fluidos en el tanque (por defecto 3): 4\n",
            "Ingrese el nombre del fluido 1 (por defecto 'Fluido1'): Agua\n",
            "Ingrese la densidad del fluido Agua en kg/m^3 (por defecto 1000): \n",
            "Ingrese la altura de la capa de Agua en metros (por defecto 2): \n",
            "Ingrese el nombre del fluido 2 (por defecto 'Fluido2'): Agua\n",
            "Ingrese la densidad del fluido Agua en kg/m^3 (por defecto 1000): \n",
            "Ingrese la altura de la capa de Agua en metros (por defecto 2): \n",
            "Ingrese el nombre del fluido 3 (por defecto 'Fluido3'): Agua\n",
            "Ingrese la densidad del fluido Agua en kg/m^3 (por defecto 1000): \n",
            "Ingrese la altura de la capa de Agua en metros (por defecto 2): \n",
            "Ingrese el nombre del fluido 4 (por defecto 'Fluido4'): Agua\n",
            "Ingrese la densidad del fluido Agua en kg/m^3 (por defecto 1000): \n",
            "Ingrese la altura de la capa de Agua en metros (por defecto 2): \n",
            "\n",
            "Presión absoluta Agua: 19620.0 Pascales\n",
            "Fuerza ejercida por el Agua: 98100.0 N\n",
            "Momento debido al Agua: 130800.0 N*m\n",
            "\n",
            "Presión absoluta Agua: 19620.0 Pascales\n",
            "Fuerza ejercida por el Agua: 98100.0 N\n",
            "Momento debido al Agua: 327000.0 N*m\n",
            "\n",
            "Presión absoluta Agua: 19620.0 Pascales\n",
            "Fuerza ejercida por el Agua: 98100.0 N\n",
            "Momento debido al Agua: 523200.0 N*m\n",
            "\n",
            "Presión absoluta Agua: 19620.0 Pascales\n",
            "Fuerza ejercida por el Agua: 98100.0 N\n",
            "Momento debido al Agua: 719400.0 N*m\n",
            "\n",
            "Presión absoluta total en el fondo del tanque: 179805.0 Pascales\n",
            "Fuerza total en la cara frontal del tanque: 392400.0 N\n",
            "La altura del centro de presión desde la base del tanque es: 4.333333333333333 metros\n",
            "end\n"
          ]
        }
      ]
    }
  ]
}